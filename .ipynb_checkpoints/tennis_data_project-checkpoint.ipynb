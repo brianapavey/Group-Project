{
 "cells": [
  {
   "cell_type": "code",
   "execution_count": 20,
   "metadata": {},
   "outputs": [],
   "source": [
    "library(tidyverse)\n",
    "library(testthat)\n",
    "library(digest)\n",
    "library(repr)\n",
    "library(rvest)\n",
    "library(tidymodels)"
   ]
  },
  {
   "cell_type": "markdown",
   "metadata": {},
   "source": [
    "**Introduction:** <p> Our goal for this project is to be able to predict which round of a tournament a tennis match occured, from top 128 to finals, based on relevant match data.</p> <p> The first round of a tournament begins with 128 players and after each match the number of players remaining is halved. This continues until quarterfinals(QF), then to semi-finals(SF), and ending with the grand finals(F).</p> <p>This includes data from both the winners and losers and the length of a match. This data was gathered from the 2021 matches played by athletes part of the Association of Tennis Professionals (ATP).</p>\n",
    "\n"
   ]
  },
  {
   "cell_type": "code",
   "execution_count": 47,
   "metadata": {},
   "outputs": [
    {
     "name": "stderr",
     "output_type": "stream",
     "text": [
      "Parsed with column specification:\n",
      "cols(\n",
      "  .default = col_double(),\n",
      "  tourney_id = \u001b[31mcol_character()\u001b[39m,\n",
      "  tourney_name = \u001b[31mcol_character()\u001b[39m,\n",
      "  surface = \u001b[31mcol_character()\u001b[39m,\n",
      "  tourney_level = \u001b[31mcol_character()\u001b[39m,\n",
      "  winner_entry = \u001b[31mcol_character()\u001b[39m,\n",
      "  winner_name = \u001b[31mcol_character()\u001b[39m,\n",
      "  winner_hand = \u001b[31mcol_character()\u001b[39m,\n",
      "  winner_ioc = \u001b[31mcol_character()\u001b[39m,\n",
      "  loser_entry = \u001b[31mcol_character()\u001b[39m,\n",
      "  loser_name = \u001b[31mcol_character()\u001b[39m,\n",
      "  loser_hand = \u001b[31mcol_character()\u001b[39m,\n",
      "  loser_ioc = \u001b[31mcol_character()\u001b[39m,\n",
      "  score = \u001b[31mcol_character()\u001b[39m,\n",
      "  round = \u001b[31mcol_character()\u001b[39m\n",
      ")\n",
      "\n",
      "See spec(...) for full column specifications.\n",
      "\n"
     ]
    },
    {
     "data": {
      "text/html": [
       "<table>\n",
       "<caption>A tibble: 507 × 13</caption>\n",
       "<thead>\n",
       "\t<tr><th scope=col>winner_name</th><th scope=col>loser_name</th><th scope=col>round</th><th scope=col>best_of</th><th scope=col>minutes</th><th scope=col>w_ace</th><th scope=col>w_svpt</th><th scope=col>winner_rank</th><th scope=col>w_bpSaved</th><th scope=col>l_ace</th><th scope=col>l_svpt</th><th scope=col>l_bpSaved</th><th scope=col>loser_rank</th></tr>\n",
       "\t<tr><th scope=col>&lt;chr&gt;</th><th scope=col>&lt;chr&gt;</th><th scope=col>&lt;chr&gt;</th><th scope=col>&lt;dbl&gt;</th><th scope=col>&lt;dbl&gt;</th><th scope=col>&lt;dbl&gt;</th><th scope=col>&lt;dbl&gt;</th><th scope=col>&lt;dbl&gt;</th><th scope=col>&lt;dbl&gt;</th><th scope=col>&lt;dbl&gt;</th><th scope=col>&lt;dbl&gt;</th><th scope=col>&lt;dbl&gt;</th><th scope=col>&lt;dbl&gt;</th></tr>\n",
       "</thead>\n",
       "<tbody>\n",
       "\t<tr><td>Novak Djokovic</td><td>Jeremy Chardy    </td><td>R128</td><td>5</td><td> 91</td><td> 9</td><td>57</td><td> 1</td><td>0</td><td>3</td><td>86</td><td>7</td><td>  61</td></tr>\n",
       "\t<tr><td>Frances Tiafoe</td><td>Stefano Travaglia</td><td>R128</td><td>5</td><td>111</td><td> 6</td><td>87</td><td>64</td><td>4</td><td>8</td><td>83</td><td>4</td><td>  60</td></tr>\n",
       "\t<tr><td>Reilly Opelka </td><td>Yen Hsun Lu      </td><td>R128</td><td>5</td><td>115</td><td>18</td><td>84</td><td>38</td><td>1</td><td>3</td><td>92</td><td>5</td><td>1009</td></tr>\n",
       "\t<tr><td>⋮</td><td>⋮</td><td>⋮</td><td>⋮</td><td>⋮</td><td>⋮</td><td>⋮</td><td>⋮</td><td>⋮</td><td>⋮</td><td>⋮</td><td>⋮</td><td>⋮</td></tr>\n",
       "\t<tr><td>Novak Djokovic </td><td>Alexander Zverev     </td><td>SF</td><td>5</td><td>214</td><td>12</td><td>150</td><td>1</td><td>9</td><td>16</td><td>124</td><td>3</td><td> 4</td></tr>\n",
       "\t<tr><td>Daniil Medvedev</td><td>Felix Auger Aliassime</td><td>SF</td><td>5</td><td>124</td><td>12</td><td> 86</td><td>2</td><td>2</td><td> 4</td><td> 91</td><td>0</td><td>15</td></tr>\n",
       "\t<tr><td>Daniil Medvedev</td><td>Novak Djokovic       </td><td>F </td><td>5</td><td>136</td><td>16</td><td> 90</td><td>2</td><td>5</td><td> 6</td><td> 92</td><td>4</td><td> 1</td></tr>\n",
       "</tbody>\n",
       "</table>\n"
      ],
      "text/latex": [
       "A tibble: 507 × 13\n",
       "\\begin{tabular}{lllllllllllll}\n",
       " winner\\_name & loser\\_name & round & best\\_of & minutes & w\\_ace & w\\_svpt & winner\\_rank & w\\_bpSaved & l\\_ace & l\\_svpt & l\\_bpSaved & loser\\_rank\\\\\n",
       " <chr> & <chr> & <chr> & <dbl> & <dbl> & <dbl> & <dbl> & <dbl> & <dbl> & <dbl> & <dbl> & <dbl> & <dbl>\\\\\n",
       "\\hline\n",
       "\t Novak Djokovic & Jeremy Chardy     & R128 & 5 &  91 &  9 & 57 &  1 & 0 & 3 & 86 & 7 &   61\\\\\n",
       "\t Frances Tiafoe & Stefano Travaglia & R128 & 5 & 111 &  6 & 87 & 64 & 4 & 8 & 83 & 4 &   60\\\\\n",
       "\t Reilly Opelka  & Yen Hsun Lu       & R128 & 5 & 115 & 18 & 84 & 38 & 1 & 3 & 92 & 5 & 1009\\\\\n",
       "\t ⋮ & ⋮ & ⋮ & ⋮ & ⋮ & ⋮ & ⋮ & ⋮ & ⋮ & ⋮ & ⋮ & ⋮ & ⋮\\\\\n",
       "\t Novak Djokovic  & Alexander Zverev      & SF & 5 & 214 & 12 & 150 & 1 & 9 & 16 & 124 & 3 &  4\\\\\n",
       "\t Daniil Medvedev & Felix Auger Aliassime & SF & 5 & 124 & 12 &  86 & 2 & 2 &  4 &  91 & 0 & 15\\\\\n",
       "\t Daniil Medvedev & Novak Djokovic        & F  & 5 & 136 & 16 &  90 & 2 & 5 &  6 &  92 & 4 &  1\\\\\n",
       "\\end{tabular}\n"
      ],
      "text/markdown": [
       "\n",
       "A tibble: 507 × 13\n",
       "\n",
       "| winner_name &lt;chr&gt; | loser_name &lt;chr&gt; | round &lt;chr&gt; | best_of &lt;dbl&gt; | minutes &lt;dbl&gt; | w_ace &lt;dbl&gt; | w_svpt &lt;dbl&gt; | winner_rank &lt;dbl&gt; | w_bpSaved &lt;dbl&gt; | l_ace &lt;dbl&gt; | l_svpt &lt;dbl&gt; | l_bpSaved &lt;dbl&gt; | loser_rank &lt;dbl&gt; |\n",
       "|---|---|---|---|---|---|---|---|---|---|---|---|---|\n",
       "| Novak Djokovic | Jeremy Chardy     | R128 | 5 |  91 |  9 | 57 |  1 | 0 | 3 | 86 | 7 |   61 |\n",
       "| Frances Tiafoe | Stefano Travaglia | R128 | 5 | 111 |  6 | 87 | 64 | 4 | 8 | 83 | 4 |   60 |\n",
       "| Reilly Opelka  | Yen Hsun Lu       | R128 | 5 | 115 | 18 | 84 | 38 | 1 | 3 | 92 | 5 | 1009 |\n",
       "| ⋮ | ⋮ | ⋮ | ⋮ | ⋮ | ⋮ | ⋮ | ⋮ | ⋮ | ⋮ | ⋮ | ⋮ | ⋮ |\n",
       "| Novak Djokovic  | Alexander Zverev      | SF | 5 | 214 | 12 | 150 | 1 | 9 | 16 | 124 | 3 |  4 |\n",
       "| Daniil Medvedev | Felix Auger Aliassime | SF | 5 | 124 | 12 |  86 | 2 | 2 |  4 |  91 | 0 | 15 |\n",
       "| Daniil Medvedev | Novak Djokovic        | F  | 5 | 136 | 16 |  90 | 2 | 5 |  6 |  92 | 4 |  1 |\n",
       "\n"
      ],
      "text/plain": [
       "    winner_name     loser_name            round best_of minutes w_ace w_svpt\n",
       "1   Novak Djokovic  Jeremy Chardy         R128  5        91      9    57    \n",
       "2   Frances Tiafoe  Stefano Travaglia     R128  5       111      6    87    \n",
       "3   Reilly Opelka   Yen Hsun Lu           R128  5       115     18    84    \n",
       "⋮   ⋮               ⋮                     ⋮     ⋮       ⋮       ⋮     ⋮     \n",
       "505 Novak Djokovic  Alexander Zverev      SF    5       214     12    150   \n",
       "506 Daniil Medvedev Felix Auger Aliassime SF    5       124     12     86   \n",
       "507 Daniil Medvedev Novak Djokovic        F     5       136     16     90   \n",
       "    winner_rank w_bpSaved l_ace l_svpt l_bpSaved loser_rank\n",
       "1    1          0         3     86     7           61      \n",
       "2   64          4         8     83     4           60      \n",
       "3   38          1         3     92     5         1009      \n",
       "⋮   ⋮           ⋮         ⋮     ⋮      ⋮         ⋮         \n",
       "505 1           9         16    124    3          4        \n",
       "506 2           2          4     91    0         15        \n",
       "507 2           5          6     92    4          1        "
      ]
     },
     "metadata": {},
     "output_type": "display_data"
    }
   ],
   "source": [
    "tennis_data <- read_csv(\"https://raw.githubusercontent.com/JeffSackmann/tennis_atp/master/atp_matches_2021.csv\") %>%\n",
    "select(winner_name, loser_name, round, best_of, minutes, w_ace, w_svpt, winner_rank, w_bpSaved, l_ace, l_svpt, l_bpSaved, loser_rank) %>%\n",
    "filter(best_of == 5)\n",
    "tennis_data\n",
    "\n",
    "tennis_split <- initial_split(tennis_data, prop = .75, strata = round)  \n",
    "tennis_train <- training(tennis_split)   \n",
    "tennis_test <- testing(tennis_split)"
   ]
  },
  {
   "cell_type": "markdown",
   "metadata": {},
   "source": [
    "**Method** <p>Through classification"
   ]
  }
 ],
 "metadata": {
  "kernelspec": {
   "display_name": "R",
   "language": "R",
   "name": "ir"
  },
  "language_info": {
   "codemirror_mode": "r",
   "file_extension": ".r",
   "mimetype": "text/x-r-source",
   "name": "R",
   "pygments_lexer": "r",
   "version": "4.0.0"
  }
 },
 "nbformat": 4,
 "nbformat_minor": 4
}
